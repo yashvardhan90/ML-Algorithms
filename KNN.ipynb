{
 "cells": [
  {
   "cell_type": "code",
   "execution_count": null,
   "metadata": {
    "collapsed": true
   },
   "outputs": [],
   "source": [
    "import csv\n",
    "import random\n",
    "import math\n",
    "import operator\n",
    "import numpy as np\n",
    "import matplotlib.pyplot as plt\n",
    "from sklearn.preprocessing import MinMaxScaler\n",
    "from scipy.stats import pearsonr\n",
    "import seaborn as sns"
   ]
  },
  {
   "cell_type": "code",
   "execution_count": null,
   "metadata": {
    "collapsed": true
   },
   "outputs": [],
   "source": [
    "def preprocessKNN(filename, split, trainingSet=[], testSet=[]):\n",
    "    with open(filename, 'rt') as csvfile:\n",
    "        lines = csv.reader(csvfile)\n",
    "        next(lines, None)\n",
    "        dataset = list(lines)\n",
    "        scaler = MinMaxScaler()\n",
    "        scaler.fit(dataset)\n",
    "        dataset1 = scaler.transform(dataset)\n",
    "        for i in range(len(dataset1)):\n",
    "            for j in range(len(dataset1[0])):\n",
    "                dataset1[i][j] = float(dataset1[i][j])\n",
    "\n",
    "        for row in dataset1:\n",
    "            if row[-1] > 0:\n",
    "                row[-1] =1;\n",
    "            trainingSet.append(row)\n",
    "\n",
    "            # if random.random() < split:\n",
    "            #     trainingSet.append(row)\n",
    "            # else:\n",
    "            #         testSet.append(row)"
   ]
  },
  {
   "cell_type": "code",
   "execution_count": null,
   "metadata": {
    "collapsed": true
   },
   "outputs": [],
   "source": [
    "def euclideanDistance(instance1, instance2, length):\n",
    "    distance = 0\n",
    "    for x in range(4,length):\n",
    "        distance += pow((instance1[x] - instance2[x]), 2)\n",
    "    return math.sqrt(distance)"
   ]
  },
  {
   "cell_type": "code",
   "execution_count": null,
   "metadata": {
    "collapsed": true
   },
   "outputs": [],
   "source": [
    "def hammingDistance(instance1, instance2):\n",
    "    distance =0\n",
    "    for i in range(4):\n",
    "        if(instance1[i]!= instance2[i]):\n",
    "            distance+=1\n",
    "    return distance"
   ]
  },
  {
   "cell_type": "code",
   "execution_count": null,
   "metadata": {
    "collapsed": true
   },
   "outputs": [],
   "source": [
    "def KNNImpl(trainingSet, testInstance, k):\n",
    "    distances = []\n",
    "    length = len(testInstance) - 1\n",
    "    for x in range(len(trainingSet)):\n",
    "        dist = euclideanDistance(testInstance, trainingSet[x], length)\n",
    "        dist += hammingDistance(testInstance, trainingSet[x])\n",
    "        distances.append((trainingSet[x], dist))\n",
    "    distances.sort(key=operator.itemgetter(1))\n",
    "    neighbors = []\n",
    "    for x in range(k):\n",
    "        neighbors.append(distances[x][0])\n",
    "    votes = [0]*2\n",
    "    for x in range(len(neighbors)):\n",
    "        votes[int(neighbors[x][-1])] +=1\n",
    "    return votes.index(max(votes))"
   ]
  },
  {
   "cell_type": "code",
   "execution_count": null,
   "metadata": {
    "collapsed": true
   },
   "outputs": [],
   "source": [
    "def getAccuracy(testSet, predictions):\n",
    "    correct = 0\n",
    "    for x in range(len(testSet)):\n",
    "        if testSet[x][-1] == predictions[x]:\n",
    "            correct += 1\n",
    "    return (correct / float(len(testSet))) * 100.0"
   ]
  },
  {
   "cell_type": "code",
   "execution_count": null,
   "metadata": {
    "collapsed": true
   },
   "outputs": [],
   "source": [
    "def KNNClassifier():\n",
    "    trainingSet = []; testSet = []; dummy = []\n",
    "    split = 0.8\n",
    "    preprocessKNN('train.csv', split, trainingSet, dummy)\n",
    "    preprocessKNN('test.csv',split,testSet,dummy)\n",
    "    predictions = []\n",
    "    k = 9\n",
    "    for x in range(len(testSet)):\n",
    "        result = KNNImpl(trainingSet, testSet[x], k)\n",
    "        predictions.append(result)\n",
    "        #print('> predicted=' + repr(result) + ', actual=' + repr(testSet[x][-1]))\n",
    "    accuracy = getAccuracy(testSet, predictions)\n",
    "    print('KNN Accuracy: ' + repr(accuracy) + '%')\n",
    "    plt.plot([1,2,3,4,5,6,7,8,9,10,11,12,13],[45,49,43,50,45,49,47,50,39,45,39,45,39])\n",
    "    plt.xlabel('K')\n",
    "    plt.ylabel('Accuracy with hamming distance')\n",
    "    plt.show()"
   ]
  }
 ],
 "metadata": {
  "kernelspec": {
   "display_name": "Python 3",
   "language": "python",
   "name": "python3"
  },
  "language_info": {
   "codemirror_mode": {
    "name": "ipython",
    "version": 3
   },
   "file_extension": ".py",
   "mimetype": "text/x-python",
   "name": "python",
   "nbconvert_exporter": "python",
   "pygments_lexer": "ipython3",
   "version": "3.6.1"
  }
 },
 "nbformat": 4,
 "nbformat_minor": 2
}
