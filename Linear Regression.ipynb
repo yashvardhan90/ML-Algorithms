{
 "cells": [
  {
   "cell_type": "code",
   "execution_count": null,
   "metadata": {
    "collapsed": true
   },
   "outputs": [],
   "source": [
    "import csv\n",
    "import random\n",
    "import math\n",
    "import operator\n",
    "import numpy as np\n",
    "import matplotlib.pyplot as plt\n",
    "from sklearn.preprocessing import MinMaxScaler\n",
    "from scipy.stats import pearsonr\n",
    "import seaborn as sns"
   ]
  },
  {
   "cell_type": "code",
   "execution_count": null,
   "metadata": {
    "collapsed": true
   },
   "outputs": [],
   "source": [
    "def preprocessLinearRegression(filename, X=[], Y=[]):\n",
    "    with open(filename, 'rt') as csvfile:\n",
    "        lines = csv.reader(csvfile)\n",
    "        next(lines, None)\n",
    "        dataset = list(lines)\n",
    "\n",
    "        for i in range(len(dataset)):\n",
    "            for j in range(len(dataset[0])):\n",
    "                dataset[i][j] = float(dataset[i][j])\n",
    "        dataset1 = [row for row in dataset if row[-1] != 0]\n",
    "        for row in dataset1:\n",
    "            X.append(row)"
   ]
  },
  {
   "cell_type": "code",
   "execution_count": null,
   "metadata": {
    "collapsed": true
   },
   "outputs": [],
   "source": [
    "def LinearRegressionTrain():\n",
    "    X = []; Y = []\n",
    "    preprocessLinearRegression('Data_training.csv', X, Y)\n",
    "    X = np.array(X)\n",
    "    Y = [row[-1] for row in X]\n",
    "    Y = np.array(Y)\n",
    "    # plt.hist(Y, bins=100); plt.xlabel(\"Y\"); plt.ylabel(\"Frequency\"); plt.show()\n",
    "    # plt.hist(np.log(Y), bins=100);plt.xlabel(\"log of Y\");plt.ylabel(\"Frequency\");plt.show()\n",
    "    X = np.delete(X, 12, axis=1)\n",
    "    X = np.insert(X,0,1,axis=1)\n",
    "    xTranspose = X.transpose()\n",
    "    w = np.dot(xTranspose,X)\n",
    "    w = np.linalg.pinv(w)\n",
    "    w = np.dot(w,xTranspose)\n",
    "    w = np.dot(w,Y)\n",
    "    print(\"w : \"); print(w)\n",
    "    LinearRegressionTest(w)\n",
    "\n"
   ]
  },
  {
   "cell_type": "code",
   "execution_count": null,
   "metadata": {
    "collapsed": true
   },
   "outputs": [],
   "source": [
    "def LinearRegressionTest(w):\n",
    "    X = []; Y = []; RSS=0.0\n",
    "    preprocessLinearRegression('Data_test.csv', X, Y)\n",
    "    X = np.array(X)\n",
    "    Y = [row[-1] for row in X]\n",
    "    Y = np.array(Y)\n",
    "    X = np.delete(X, 12, axis=1)\n",
    "    X = np.insert(X, 0, 1, axis=1)\n",
    "    temp = ((Y - np.dot(X,w)) **2)\n",
    "    for row in temp:\n",
    "        RSS += row\n",
    "    print(\"RSS: \" + repr(RSS))\n",
    "    print(pearsonr(np.dot(X,w),Y))\n",
    "\n",
    "LinearRegressionTrain()"
   ]
  }
 ],
 "metadata": {
  "kernelspec": {
   "display_name": "Python 3",
   "language": "python",
   "name": "python3"
  },
  "language_info": {
   "codemirror_mode": {
    "name": "ipython",
    "version": 3
   },
   "file_extension": ".py",
   "mimetype": "text/x-python",
   "name": "python",
   "nbconvert_exporter": "python",
   "pygments_lexer": "ipython3",
   "version": "3.6.1"
  }
 },
 "nbformat": 4,
 "nbformat_minor": 2
}
